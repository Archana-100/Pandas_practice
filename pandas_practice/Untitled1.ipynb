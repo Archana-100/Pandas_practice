{
 "cells": [
  {
   "cell_type": "code",
   "execution_count": 1,
   "metadata": {},
   "outputs": [],
   "source": [
    "import pandas"
   ]
  },
  {
   "cell_type": "code",
   "execution_count": 2,
   "metadata": {},
   "outputs": [],
   "source": [
    "df=pandas.DataFrame()"
   ]
  },
  {
   "cell_type": "code",
   "execution_count": 3,
   "metadata": {},
   "outputs": [
    {
     "data": {
      "text/html": [
       "<div>\n",
       "<style scoped>\n",
       "    .dataframe tbody tr th:only-of-type {\n",
       "        vertical-align: middle;\n",
       "    }\n",
       "\n",
       "    .dataframe tbody tr th {\n",
       "        vertical-align: top;\n",
       "    }\n",
       "\n",
       "    .dataframe thead th {\n",
       "        text-align: right;\n",
       "    }\n",
       "</style>\n",
       "<table border=\"1\" class=\"dataframe\">\n",
       "  <thead>\n",
       "    <tr style=\"text-align: right;\">\n",
       "      <th></th>\n",
       "    </tr>\n",
       "  </thead>\n",
       "  <tbody>\n",
       "  </tbody>\n",
       "</table>\n",
       "</div>"
      ],
      "text/plain": [
       "Empty DataFrame\n",
       "Columns: []\n",
       "Index: []"
      ]
     },
     "execution_count": 3,
     "metadata": {},
     "output_type": "execute_result"
    }
   ],
   "source": [
    "df"
   ]
  },
  {
   "cell_type": "code",
   "execution_count": 4,
   "metadata": {},
   "outputs": [
    {
     "name": "stdout",
     "output_type": "stream",
     "text": [
      "          name  age\n",
      "data1  archana   20\n",
      "data2    avina   10\n",
      "data3  avinash   25\n"
     ]
    }
   ],
   "source": [
    "ds={'name':[\"archana\",\"avina\",\"avinash\"],\"age\":[20,10,25]}\n",
    "df_=pandas.DataFrame(ds,index=[\"data1\",\"data2\",\"data3\"])\n",
    "print(df_)"
   ]
  },
  {
   "cell_type": "code",
   "execution_count": 5,
   "metadata": {},
   "outputs": [
    {
     "name": "stdout",
     "output_type": "stream",
     "text": [
      "0    1\n",
      "1    7\n",
      "2    2\n",
      "dtype: int64\n"
     ]
    }
   ],
   "source": [
    "import pandas as pd\n",
    "\n",
    "a = [1, 7, 2]\n",
    "\n",
    "myvar = pd.Series(a)\n",
    "\n",
    "print(myvar)"
   ]
  },
  {
   "cell_type": "code",
   "execution_count": 6,
   "metadata": {},
   "outputs": [
    {
     "name": "stdout",
     "output_type": "stream",
     "text": [
      "x    1\n",
      "y    7\n",
      "z    2\n",
      "dtype: int64\n"
     ]
    }
   ],
   "source": [
    "import pandas as pd\n",
    "\n",
    "a = [1, 7, 2]\n",
    "\n",
    "myvar = pd.Series(a, index = [\"x\", \"y\", \"z\"])\n",
    "\n",
    "print(myvar)\n"
   ]
  },
  {
   "cell_type": "code",
   "execution_count": 3,
   "metadata": {},
   "outputs": [
    {
     "name": "stdout",
     "output_type": "stream",
     "text": [
      "   Roll_no  Age  Height  weight\n",
      "0        1   25     175      65\n",
      "1        2   20     152      50\n",
      "2        3   22     162      65\n",
      "3        4   20     152      50\n",
      "4        5   21     157      55\n",
      "   Roll_no  Age  Height  weight\n",
      "0        1   25     175      65\n",
      "1        2   20     152      50\n",
      "2        3   22     162      65\n",
      "3        4   20     152      50\n",
      "4        5   21     157      55\n"
     ]
    }
   ],
   "source": [
    "import pandas as pd\n",
    "df=pd.read_csv('C:/Users/archa/Desktop/New folder (2)/txt.csv')\n",
    "print(df.to_string())\n",
    "print(df)"
   ]
  },
  {
   "cell_type": "code",
   "execution_count": 2,
   "metadata": {},
   "outputs": [
    {
     "name": "stdout",
     "output_type": "stream",
     "text": [
      "                   gdghfgj\n",
      "0                 hgfhjsgj\n",
      "1        chsh hfhjgf fvdgf\n",
      "2       vfh fh hfj jhbfkjd\n",
      "3    hfd jfdjn dfjdnf fbjf\n",
      "4  fjdh jfhdj fhdjf nfkfj \n",
      "5      fbbd fbkf dfdf fkfn\n",
      "                   gdghfgj\n",
      "0                 hgfhjsgj\n",
      "1        chsh hfhjgf fvdgf\n",
      "2       vfh fh hfj jhbfkjd\n",
      "3    hfd jfdjn dfjdnf fbjf\n",
      "4  fjdh jfhdj fhdjf nfkfj \n",
      "5      fbbd fbkf dfdf fkfn\n"
     ]
    }
   ],
   "source": [
    "import pandas as pd\n",
    "da=pd.read_csv('C:/Users/archa/Desktop/New folder (2)/jsonfile.json')\n",
    "print(da.to_string())\n",
    "print(da)"
   ]
  },
  {
   "cell_type": "code",
   "execution_count": 9,
   "metadata": {},
   "outputs": [
    {
     "name": "stdout",
     "output_type": "stream",
     "text": [
      "   Duration  Pulse  Maxpulse  Calories\n",
      "0        60    110       130       409\n",
      "1        60    117       145       479\n",
      "2        60    103       135       340\n",
      "3        45    109       175       282\n",
      "4        45    117       148       406\n",
      "5        60    102       127       300\n",
      "<class 'pandas.core.frame.DataFrame'>\n",
      "Index: 6 entries, 0 to 5\n",
      "Data columns (total 4 columns):\n",
      " #   Column    Non-Null Count  Dtype\n",
      "---  ------    --------------  -----\n",
      " 0   Duration  6 non-null      int64\n",
      " 1   Pulse     6 non-null      int64\n",
      " 2   Maxpulse  6 non-null      int64\n",
      " 3   Calories  6 non-null      int64\n",
      "dtypes: int64(4)\n",
      "memory usage: 240.0+ bytes\n",
      "None\n"
     ]
    }
   ],
   "source": [
    "import pandas as pd\n",
    "\n",
    "data = {\n",
    "  \"Duration\":{\n",
    "    \"0\":60,\n",
    "    \"1\":60,\n",
    "    \"2\":60,\n",
    "    \"3\":45,\n",
    "    \"4\":45,\n",
    "    \"5\":60\n",
    "  },\n",
    "  \"Pulse\":{\n",
    "    \"0\":110,\n",
    "    \"1\":117,\n",
    "    \"2\":103,\n",
    "    \"3\":109,\n",
    "    \"4\":117,\n",
    "    \"5\":102\n",
    "  },\n",
    "  \"Maxpulse\":{\n",
    "    \"0\":130,\n",
    "    \"1\":145,\n",
    "    \"2\":135,\n",
    "    \"3\":175,\n",
    "    \"4\":148,\n",
    "    \"5\":127\n",
    "  },\n",
    "  \"Calories\":{\n",
    "    \"0\":409,\n",
    "    \"1\":479,\n",
    "    \"2\":340,\n",
    "    \"3\":282,\n",
    "    \"4\":406,\n",
    "    \"5\":300\n",
    "  }\n",
    "}\n",
    "\n",
    "df = pd.DataFrame(data)\n",
    "\n",
    "print(df)\n",
    "\n",
    "print(df.info()) \n"
   ]
  },
  {
   "cell_type": "code",
   "execution_count": 24,
   "metadata": {},
   "outputs": [
    {
     "name": "stdout",
     "output_type": "stream",
     "text": [
      "     Name  roll_no   stream  fees  exam_fees\n",
      "0   Archu      8.0      bsc  5000     500.00\n",
      "1     avi      NaN       be  8000     800.00\n",
      "2    piyu      4.0     bcom  4000        NaN\n",
      "3  satish      NaN      ITI  3000     300.00\n",
      "4   sidhi      2.0      bsc  7000     700.00\n",
      "5  sujata      9.0       BA  5000     400.00\n",
      "6  vishal     11.0  diploma  7500     450.33\n",
      "7   anita     12.0      NaN  9000     800.70\n"
     ]
    }
   ],
   "source": [
    "import pandas as pd\n",
    "df=pd.read_csv('C:/Users/archa/Desktop/New folder (2)/mycsv.csv')\n",
    "print(df)"
   ]
  },
  {
   "cell_type": "code",
   "execution_count": 25,
   "metadata": {},
   "outputs": [
    {
     "name": "stdout",
     "output_type": "stream",
     "text": [
      "     Name  roll_no   stream  fees  exam_fees\n",
      "0   Archu      8.0      bsc  5000     500.00\n",
      "1     avi    120.0       be  8000     800.00\n",
      "2    piyu      4.0     bcom  4000     120.00\n",
      "3  satish    120.0      ITI  3000     300.00\n",
      "4   sidhi      2.0      bsc  7000     700.00\n",
      "5  sujata      9.0       BA  5000     400.00\n",
      "6  vishal     11.0  diploma  7500     450.33\n",
      "7   anita     12.0      120  9000     800.70\n"
     ]
    }
   ],
   "source": [
    "df=pd.read_csv('C:/Users/archa/Desktop/New folder (2)/mycsv.csv')\n",
    "df.fillna(120,inplace=True)\n",
    "print(df)"
   ]
  },
  {
   "cell_type": "code",
   "execution_count": 27,
   "metadata": {},
   "outputs": [
    {
     "name": "stdout",
     "output_type": "stream",
     "text": [
      "     Name  roll_no   stream  fees  exam_fees\n",
      "0   Archu      8.0      bsc  5000     500.00\n",
      "1     avi      7.0       be  8000     800.00\n",
      "2    piyu      4.0     bcom  4000        NaN\n",
      "3  satish      7.0      ITI  3000     300.00\n",
      "4   sidhi      2.0      bsc  7000     700.00\n",
      "5  sujata      9.0       BA  5000     400.00\n",
      "6  vishal     11.0  diploma  7500     450.33\n",
      "7   anita     12.0      NaN  9000     800.70\n"
     ]
    }
   ],
   "source": [
    "df=pd.read_csv('C:/Users/archa/Desktop/New folder (2)/mycsv.csv')\n",
    "df[\"roll_no\"].fillna(7,inplace=True)\n",
    "print(df)"
   ]
  },
  {
   "cell_type": "code",
   "execution_count": 30,
   "metadata": {},
   "outputs": [
    {
     "name": "stdout",
     "output_type": "stream",
     "text": [
      "     Name    roll_no   stream  fees  exam_fees\n",
      "0   Archu   8.000000      bsc  5000     500.00\n",
      "1     avi   7.666667       be  8000     800.00\n",
      "2    piyu   4.000000     bcom  4000        NaN\n",
      "3  satish   7.666667      ITI  3000     300.00\n",
      "4   sidhi   2.000000      bsc  7000     700.00\n",
      "5  sujata   9.000000       BA  5000     400.00\n",
      "6  vishal  11.000000  diploma  7500     450.33\n",
      "7   anita  12.000000      NaN  9000     800.70\n"
     ]
    }
   ],
   "source": [
    "df=pd.read_csv('C:/Users/archa/Desktop/New folder (2)/mycsv.csv')\n",
    "x=df[\"roll_no\"].mean()\n",
    "df[\"roll_no\"].fillna(x,inplace=True)\n",
    "print(df)"
   ]
  },
  {
   "cell_type": "code",
   "execution_count": 32,
   "metadata": {},
   "outputs": [
    {
     "name": "stdout",
     "output_type": "stream",
     "text": [
      "     Name  roll_no   stream  fees  exam_fees\n",
      "0   Archu      8.0      bsc  5000     500.00\n",
      "1     avi      8.5       be  8000     800.00\n",
      "2    piyu      4.0     bcom  4000        NaN\n",
      "3  satish      8.5      ITI  3000     300.00\n",
      "4   sidhi      2.0      bsc  7000     700.00\n",
      "5  sujata      9.0       BA  5000     400.00\n",
      "6  vishal     11.0  diploma  7500     450.33\n",
      "7   anita     12.0      NaN  9000     800.70\n"
     ]
    }
   ],
   "source": [
    "df=pd.read_csv('C:/Users/archa/Desktop/New folder (2)/mycsv.csv')\n",
    "x=df[\"roll_no\"].median()\n",
    "df[\"roll_no\"].fillna(x,inplace=True)\n",
    "print(df)"
   ]
  },
  {
   "cell_type": "code",
   "execution_count": 36,
   "metadata": {},
   "outputs": [
    {
     "name": "stdout",
     "output_type": "stream",
     "text": [
      "     Name  roll_no   stream  fees  exam_fees     j_date\n",
      "0   Archu      8.0      bsc  5000     500.00 2018-01-05\n",
      "1     avi      NaN       be  8000     800.00 2020-08-07\n",
      "2    piyu      4.0     bcom  4000        NaN 2017-09-05\n",
      "3  satish      NaN      ITI  3000     300.00 2019-04-03\n",
      "4   sidhi      2.0      bsc  7000     700.00 2015-12-25\n",
      "5  sujata      9.0       BA  5000     400.00 2016-11-04\n",
      "6  vishal     11.0  diploma  7500     450.33 2020-10-22\n",
      "7   anita     12.0      NaN  9000     800.70        NaT\n"
     ]
    }
   ],
   "source": [
    "df=pd.read_csv('C:/Users/archa/Desktop/New folder (2)/mycsv.csv')\n",
    "df['j_date']=pd.to_datetime(df['j_date'])\n",
    "print(df)"
   ]
  },
  {
   "cell_type": "code",
   "execution_count": 39,
   "metadata": {},
   "outputs": [
    {
     "name": "stdout",
     "output_type": "stream",
     "text": [
      "     Name  roll_no   stream  fees  exam_fees     j_date\n",
      "0   Archu      8.0      bsc  5000     500.00 2018-01-05\n",
      "1     avi      NaN       be  8000     800.00 2020-08-07\n",
      "2    piyu      4.0     bcom  4000        NaN 2017-09-05\n",
      "3  satish      NaN      ITI  3000     300.00 2019-04-03\n",
      "4   sidhi      2.0      bsc  7000     700.00 2015-12-25\n",
      "5  sujata      9.0       BA  5000     400.00 2016-11-04\n",
      "6  vishal     11.0  diploma  7500     450.33 2020-10-22\n"
     ]
    }
   ],
   "source": [
    "df.dropna(subset=[\"j_date\"], inplace=True)\n",
    "print(df)"
   ]
  },
  {
   "cell_type": "code",
   "execution_count": 52,
   "metadata": {},
   "outputs": [
    {
     "name": "stdout",
     "output_type": "stream",
     "text": [
      "     Name  roll_no   stream  fees  exam_fees      j_date\n",
      "0   Archu      8.0      bsc  5000     500.00  01-05-2018\n",
      "1     avi      NaN       be  8000     800.00  08-07-2020\n",
      "2    piyu      4.0     bcom  4000        NaN  09-05-2017\n",
      "3  satish      NaN      ITI  3000     300.00  04-03-2019\n",
      "4   sidhi      2.0      bsc  7000     700.00  25-12-2015\n",
      "5  sujata      9.0       BA  5000     400.00  11-04-2016\n",
      "6  vishal      5.0  diploma  7000     450.33  22-10-2020\n",
      "7   anita     12.0      NaN  9000     800.70         NaN\n"
     ]
    }
   ],
   "source": [
    "df=pd.read_csv('C:/Users/archa/Desktop/New folder (2)/mycsv.csv')\n",
    "a=df.loc[6,\"roll_no\"]=5\n",
    "print(df)"
   ]
  },
  {
   "cell_type": "code",
   "execution_count": 53,
   "metadata": {},
   "outputs": [
    {
     "name": "stdout",
     "output_type": "stream",
     "text": [
      "0    False\n",
      "1    False\n",
      "2    False\n",
      "3    False\n",
      "4    False\n",
      "5     True\n",
      "6     True\n",
      "7    False\n",
      "Name: fees, dtype: bool\n"
     ]
    }
   ],
   "source": [
    "print(df[\"fees\"].duplicated())"
   ]
  },
  {
   "cell_type": "code",
   "execution_count": 55,
   "metadata": {},
   "outputs": [],
   "source": [
    "df.drop_duplicates(inplace = True)"
   ]
  },
  {
   "cell_type": "code",
   "execution_count": 57,
   "metadata": {},
   "outputs": [
    {
     "name": "stdout",
     "output_type": "stream",
     "text": [
      "          Roll_no       Age    Height    weight\n",
      "Roll_no  1.000000 -0.609994 -0.595713 -0.417029\n",
      "Age     -0.609994  1.000000  0.999299  0.858550\n",
      "Height  -0.595713  0.999299  1.000000  0.876404\n",
      "weight  -0.417029  0.858550  0.876404  1.000000\n"
     ]
    }
   ],
   "source": [
    "df=pd.read_csv('C:/Users/archa/Desktop/New folder (2)/txt.csv')\n",
    "print(df.corr())\n"
   ]
  },
  {
   "cell_type": "code",
   "execution_count": 64,
   "metadata": {},
   "outputs": [
    {
     "data": {
      "image/png": "[encoded data removed]",
      "text/plain": [
       "<Figure size 432x288 with 1 Axes>"
      ]
     },
     "metadata": {
      "needs_background": "light"
     },
     "output_type": "display_data"
    }
   ],
   "source": [
    "\n",
    "import pandas as pd\n",
    "import matplotlib.pyplot as mp\n",
    "df=pd.read_csv('C:/Users/archa/Desktop/New folder (2)/txt.csv')\n",
    "df.plot()\n",
    "mp.show()\n",
    "\n"
   ]
  },
  {
   "cell_type": "code",
   "execution_count": 67,
   "metadata": {},
   "outputs": [
    {
     "name": "stderr",
     "output_type": "stream",
     "text": [
      "<ipython-input-67-5e0b86043d9e>:13: UserWarning: Matplotlib is currently using agg, which is a non-GUI backend, so cannot show the figure.\n",
      "  plt.show()\n"
     ]
    },
    {
     "ename": "AttributeError",
     "evalue": "'OutStream' object has no attribute 'buffer'",
     "output_type": "error",
     "traceback": [
      "\u001b[1;31m---------------------------------------------------------------------------\u001b[0m",
      "\u001b[1;31mAttributeError\u001b[0m                            Traceback (most recent call last)",
      "\u001b[1;32m<ipython-input-67-5e0b86043d9e>\u001b[0m in \u001b[0;36m<module>\u001b[1;34m\u001b[0m\n\u001b[0;32m     14\u001b[0m \u001b[1;33m\u001b[0m\u001b[0m\n\u001b[0;32m     15\u001b[0m \u001b[1;31m#Two  lines to make our compiler able to draw:\u001b[0m\u001b[1;33m\u001b[0m\u001b[1;33m\u001b[0m\u001b[1;33m\u001b[0m\u001b[0m\n\u001b[1;32m---> 16\u001b[1;33m \u001b[0mplt\u001b[0m\u001b[1;33m.\u001b[0m\u001b[0msavefig\u001b[0m\u001b[1;33m(\u001b[0m\u001b[0msys\u001b[0m\u001b[1;33m.\u001b[0m\u001b[0mstdout\u001b[0m\u001b[1;33m.\u001b[0m\u001b[0mbuffer\u001b[0m\u001b[1;33m)\u001b[0m\u001b[1;33m\u001b[0m\u001b[1;33m\u001b[0m\u001b[0m\n\u001b[0m\u001b[0;32m     17\u001b[0m \u001b[0msys\u001b[0m\u001b[1;33m.\u001b[0m\u001b[0mstdout\u001b[0m\u001b[1;33m.\u001b[0m\u001b[0mflush\u001b[0m\u001b[1;33m(\u001b[0m\u001b[1;33m)\u001b[0m\u001b[1;33m\u001b[0m\u001b[1;33m\u001b[0m\u001b[0m\n",
      "\u001b[1;31mAttributeError\u001b[0m: 'OutStream' object has no attribute 'buffer'"
     ]
    },
    {
     "data": {
      "image/png": "[encoded data removed]",
      "text/plain": [
       "<Figure size 432x288 with 1 Axes>"
      ]
     },
     "metadata": {
      "needs_background": "light"
     },
     "output_type": "display_data"
    }
   ],
   "source": [
    "#Three lines to make our compiler able to draw:\n",
    "import sys\n",
    "import matplotlib\n",
    "matplotlib.use('Agg')\n",
    "\n",
    "import pandas as pd\n",
    "import matplotlib.pyplot as plt\n",
    "\n",
    "df = pd.read_csv('C:/Users/archa/Desktop/New folder (2)/txt.csv')\n",
    "\n",
    "df.plot()\n",
    "\n",
    "plt.show()\n",
    "\n",
    "#Two  lines to make our compiler able to draw:\n",
    "plt.savefig(sys.stdout.buffer)\n",
    "sys.stdout.flush() \n"
   ]
  },
  {
   "cell_type": "code",
   "execution_count": 70,
   "metadata": {},
   "outputs": [
    {
     "name": "stdout",
     "output_type": "stream",
     "text": [
      "   Roll_no  Age  Height  weight\n",
      "0        1   25     175      65\n",
      "1        2   20     152      50\n",
      "2        3   22     162      65\n",
      "3        4   20     152      50\n",
      "4        5   21     157      55\n"
     ]
    },
    {
     "name": "stderr",
     "output_type": "stream",
     "text": [
      "<ipython-input-70-053ad73a4efe>:6: UserWarning: Matplotlib is currently using agg, which is a non-GUI backend, so cannot show the figure.\n",
      "  mp.show()\n"
     ]
    },
    {
     "data": {
      "image/png": "[encoded data removed]",
      "text/plain": [
       "<Figure size 432x288 with 1 Axes>"
      ]
     },
     "metadata": {
      "needs_background": "light"
     },
     "output_type": "display_data"
    }
   ],
   "source": [
    "import pandas as pd\n",
    "import matplotlib.pyplot as mp\n",
    "df=pd.read_csv('C:/Users/archa/Desktop/New folder (2)/txt.csv')\n",
    "df.plot(kind=\"scatter\" , x= \"Age\" , y=\"weight\")\n",
    "print(df)\n",
    "mp.show()"
   ]
  },
  {
   "cell_type": "code",
   "execution_count": 71,
   "metadata": {},
   "outputs": [
    {
     "name": "stdout",
     "output_type": "stream",
     "text": [
      "   Roll_no  Age  Height  weight\n",
      "0        1   25     175      65\n",
      "1        2   20     152      50\n",
      "2        3   22     162      65\n",
      "3        4   20     152      50\n",
      "4        5   21     157      55\n"
     ]
    },
    {
     "name": "stderr",
     "output_type": "stream",
     "text": [
      "<ipython-input-71-33771eff4d72>:6: UserWarning: Matplotlib is currently using agg, which is a non-GUI backend, so cannot show the figure.\n",
      "  mp.show()\n"
     ]
    },
    {
     "data": {
      "image/png": "[encoded data removed]",
      "text/plain": [
       "<Figure size 432x288 with 1 Axes>"
      ]
     },
     "metadata": {
      "needs_background": "light"
     },
     "output_type": "display_data"
    }
   ],
   "source": [
    "import pandas as pd\n",
    "import matplotlib.pyplot as mp\n",
    "df=pd.read_csv('C:/Users/archa/Desktop/New folder (2)/txt.csv')\n",
    "df.plot(kind=\"scatter\" , x= \"Roll_no\" , y=\"weight\")\n",
    "print(df)\n",
    "mp.show()"
   ]
  },
  {
   "cell_type": "code",
   "execution_count": 74,
   "metadata": {},
   "outputs": [
    {
     "name": "stdout",
     "output_type": "stream",
     "text": [
      "   Roll_no  Age  Height  weight\n",
      "0        1   25     175      65\n",
      "1        2   20     152      50\n",
      "2        3   22     162      65\n",
      "3        4   20     152      50\n",
      "4        5   21     157      55\n"
     ]
    },
    {
     "name": "stderr",
     "output_type": "stream",
     "text": [
      "<ipython-input-74-e1adc28cf357>:6: UserWarning: Matplotlib is currently using agg, which is a non-GUI backend, so cannot show the figure.\n",
      "  mp.show()\n"
     ]
    },
    {
     "data": {
      "image/png": "[encoded data removed]",
      "text/plain": [
       "<Figure size 432x288 with 1 Axes>"
      ]
     },
     "metadata": {
      "needs_background": "light"
     },
     "output_type": "display_data"
    }
   ],
   "source": [
    "import pandas as pd\n",
    "import matplotlib.pyplot as mp\n",
    "df=pd.read_csv('C:/Users/archa/Desktop/New folder (2)/txt.csv')\n",
    "df.plot(kind=\"hist\" , x= \"Age\" , y=\"weight\")\n",
    "print(df)\n",
    "mp.show()"
   ]
  },
  {
   "cell_type": "code",
   "execution_count": 75,
   "metadata": {},
   "outputs": [
    {
     "name": "stderr",
     "output_type": "stream",
     "text": [
      "<ipython-input-75-d2fa6135e108>:3: UserWarning: Matplotlib is currently using agg, which is a non-GUI backend, so cannot show the figure.\n",
      "  mp.show()\n"
     ]
    },
    {
     "data": {
      "image/png": "[encoded data removed]",
      "text/plain": [
       "<Figure size 432x288 with 1 Axes>"
      ]
     },
     "metadata": {
      "needs_background": "light"
     },
     "output_type": "display_data"
    }
   ],
   "source": [
    "df=pd.read_csv('C:/Users/archa/Desktop/New folder (2)/txt.csv')\n",
    "df[\"Age\"].plot(kind=\"hist\")\n",
    "mp.show()"
   ]
  },
  {
   "cell_type": "code",
   "execution_count": null,
   "metadata": {},
   "outputs": [],
   "source": []
  }
 ],
 "metadata": {
  "kernelspec": {
   "display_name": "Python 3",
   "language": "python",
   "name": "python3"
  },
  "language_info": {
   "codemirror_mode": {
    "name": "ipython",
    "version": 3
   },
   "file_extension": ".py",
   "mimetype": "text/x-python",
   "name": "python",
   "nbconvert_exporter": "python",
   "pygments_lexer": "ipython3",
   "version": "3.8.5"
  }
 },
 "nbformat": 4,
 "nbformat_minor": 4
}
